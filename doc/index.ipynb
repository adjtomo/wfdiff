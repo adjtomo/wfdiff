{
 "cells": [
  {
   "cell_type": "markdown",
   "metadata": {},
   "source": [
    "# Veritas\n",
    "\n",
    "The source code for `Veritas` lives on Github: https://github.com/krischer/veritas. If you encounter any problems with it please open an issue or submit a pull request.\n",
    "\n",
    "## Installation\n",
    "\n",
    "`Veritas` utilizes [ObsPy](http://obspy.org) (and some of its dependencies) for the processing and data handling. As a first step, please follow the [installation instructions of ObsPy](https://github.com/obspy/obspy/wiki#installation) for your given platform (we recommend the installation with [Anaconda](https://github.com/obspy/obspy/wiki/Installation-via-Anaconda) as it will most likely result in the least amount of problems). `Veritas` should work with Python versions 2.6, 2.7, 3.3, and 3.4 (mainly depends on the used ObsPy version). To install it, best use `pip` (does not yet work):\n",
    "\n",
    "```bash\n",
    "$ pip install veritas\n",
    "```\n",
    "\n",
    "If you want the latest development version, or want to work on the code, you will have to install with the help of `git`.\n",
    "\n",
    "```bash\n",
    "$ git clone https://github.com/krischer/veritas.git\n",
    "$ cd veritas\n",
    "$ pip install -v -e .\n",
    "```\n",
    "\n",
    "## Tests\n",
    "\n",
    "To assure the installation is valid and everything works as expected, run the tests with\n",
    "\n",
    "```bash\n",
    "$ python -m veritas.tests\n",
    "```"
   ]
  },
  {
   "cell_type": "code",
   "execution_count": null,
   "metadata": {
    "collapsed": true
   },
   "outputs": [],
   "source": []
  }
 ],
 "metadata": {
  "kernelspec": {
   "display_name": "Python 3",
   "language": "python",
   "name": "python3"
  },
  "language_info": {
   "codemirror_mode": {
    "name": "ipython",
    "version": 3
   },
   "file_extension": ".py",
   "mimetype": "text/x-python",
   "name": "python",
   "nbconvert_exporter": "python",
   "pygments_lexer": "ipython3",
   "version": "3.4.3"
  }
 },
 "nbformat": 4,
 "nbformat_minor": 0
}
