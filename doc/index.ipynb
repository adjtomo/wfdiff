{
 "metadata": {
  "kernelspec": {
   "display_name": "Python 3",
   "language": "python",
   "name": "python3"
  },
  "language_info": {
   "codemirror_mode": {
    "name": "ipython",
    "version": 3
   },
   "file_extension": ".py",
   "mimetype": "text/x-python",
   "name": "python",
   "nbconvert_exporter": "python",
   "pygments_lexer": "ipython3",
   "version": "3.4.3"
  },
  "name": ""
 },
 "nbformat": 3,
 "nbformat_minor": 0,
 "worksheets": [
  {
   "cells": [
    {
     "cell_type": "heading",
     "level": 1,
     "metadata": {},
     "source": [
      "wfdiff"
     ]
    },
    {
     "cell_type": "raw",
     "metadata": {},
     "source": [
      "\n",
      ".. warning::\n",
      "\n",
      "    This package is work in progress and **NOT YET READY FOR PRODUCTIVE USE**."
     ]
    },
    {
     "cell_type": "markdown",
     "metadata": {},
     "source": [
      "The source code for `wfdiff` lives on Github: https://github.com/krischer/wfdiff. If you encounter any problems with it please open an issue or submit a pull request.\n",
      "\n",
      "## Installation\n",
      "\n",
      "### Installing Python and Dependencies\n",
      "\n",
      "`wfdiff` has a couple of dependencies. If you are well versed in Python, then the installation should not prove an issue, otherwise, please follow the advice here and download the [Anaconda Python distribution](http://continuum.io/downloads) for your system. In case you don't know which version to choose, choose Python 3.4. `wfdiff` nonetheless also works with Python 2.7, 3.3, and 3.4.\n",
      "\n",
      "After downloading and installing Anaconda, update it with\n",
      "\n",
      "```bash\n",
      "$ conda update conda\n",
      "```\n",
      "\n",
      "Then create a new environment. You don't have to, but using a new environment grants a clean seperation between Python installations.\n",
      "\n",
      "```bash\n",
      "$ conda create -n wfdiff python=3.4\n",
      "```\n",
      "\n",
      "This will create a new conda environment based on Python 3.4 named `wfdiff`. Activate it with\n",
      "\n",
      "```bash\n",
      "$ source activate wfdiff\n",
      "```\n",
      "\n",
      "(On windows just with `$ activate wfdiff`). Remember to activate it everytime you want to use `wfdiff`.\n",
      "\n",
      "Now install ObsPy with\n",
      "\n",
      "```bash\n",
      "$ conda install -c obspy obspy\n",
      "```\n",
      "\n",
      "and the remaining dependencies with\n",
      "\n",
      "```bash\n",
      "$ conda install basemap pandas flake8 pytest nose\n",
      "```"
     ]
    },
    {
     "cell_type": "raw",
     "metadata": {},
     "source": [
      "\n",
      ".. note::\n",
      "\n",
      "    Depending on your cluster, the ``mpi4py`` shipping with Anaconda might not work with the MPI on your machine. It is best to uninstall the ``mpi4py`` shipping with Anaconda:\n",
      "    \n",
      "    .. code-block:: bash\n",
      "    \n",
      "        $ conda remove mpi4py\n",
      "        \n",
      "    Now make sure the correct mpi is active (e.g. ``mpicc`` and consorts point to the correct executables) and install ``mpi4py`` with\n",
      "    \n",
      "    .. code-block:: bash\n",
      "    \n",
      "        $ conda install pip\n",
      "        $ pip install mpi4py\n",
      "        \n",
      "    This will cause ``mpi4py`` to be compiled with the MPI compiler on your system which should resolve any issues."
     ]
    },
    {
     "cell_type": "markdown",
     "metadata": {
      "collapsed": true
     },
     "source": [
      "### Install wfdiff\n",
      "\n",
      "To install it, best use `pip` (does not yet work):\n",
      "\n",
      "```bash\n",
      "$ pip install wfdiff\n",
      "```\n",
      "\n",
      "If you want the latest development version, or want to work on the code, you will have to install with the help of `git`.\n",
      "\n",
      "```bash\n",
      "$ git clone https://github.com/krischer/wfdiff.git\n",
      "$ cd wfdiff\n",
      "$ pip install -v -e .\n",
      "```\n",
      "\n",
      "## Tests\n",
      "\n",
      "To assure the installation is valid and everything works as expected, run the tests with\n",
      "\n",
      "```bash\n",
      "$ python -m wfdiff.tests\n",
      "```"
     ]
    },
    {
     "cell_type": "markdown",
     "metadata": {},
     "source": [
      "## Running wfdiff\n",
      "\n",
      "To run it, create a Python file, e.g. `run_wfdiff.py` with the following content:"
     ]
    },
    {
     "cell_type": "markdown",
     "metadata": {},
     "source": [
      "```python\n",
      "from wfdiff.wfdiff import WFDiff\n",
      "\n",
      "# A non-existant directory where the output will be stored.\n",
      "OUTPUT_DIRECTORY = \"output\"\n",
      "\n",
      "# Choose which misfits you want and the threshold values.\n",
      "THRESHOLDS = {\n",
      "    \"rms\": 0.25,\n",
      "    \"l1_norm\": 0.3}\n",
      "# A couple more misfits are available.\n",
      "# These currently take a long time to calculate.\n",
      "#    \"cross_correlation\": 0.9,\n",
      "#    \"phase_misfit\": 0.1,\n",
      "#    \"envelope_misfit\": 0.1}\n",
      "\n",
      "\n",
      "# SPECFEM encoded information in the filenames and the way this\n",
      "# is done differs depending on the SPECFEM version. This function\n",
      "# will be used to extract network id, station id, and the component\n",
      "# from any waveform file encountered in case SPECFEM ASCII output\n",
      "# is used.\n",
      "def get_net_sta_comp(filename):\n",
      "    sta, net, chan, _ = filename.split(\".\")\n",
      "    return net, sta, chan[-1]\n",
      "\n",
      "# Configuration.\n",
      "c = WFDiff(\n",
      "    # Low resolution waveform files. UNIX wildcards must be used.\n",
      "    low_res_seismos=\"../numres_test/gll5/OUTPUT_FILES_9882329/SEIS/*.semd\",\n",
      "    # High resolution waveform files. UNIX wildcards must be used.\n",
      "    high_res_seismos=\"../numres_test/gll7/OUTPUT_FILES_9882329/SEIS/*.semd\",\n",
      "    # Stations file.\n",
      "    station_info=\"../numres_test/gll5/OUTPUT_FILES_9882329/STATIONS\",\n",
      "    # Specify the units of the data and the units the analysis should take\n",
      "    # place in.\n",
      "    data_units=\"displacement\", desired_analysis_units=\"displacement\",\n",
      "    # Periods to test.\n",
      "    t_min=1, t_max=8, dt=0.5,\n",
      "    get_net_sta_comp_fct=get_net_sta_comp,\n",
      "    # Set to True if waveform ASCII files are used. All other fileformat\n",
      "    # should otherwise work just fine.\n",
      "    is_specfem_ascii=True,\n",
      "    # Data window to take into account in seconds since the first sample.\n",
      "    starttime=0, endtime=199)\n",
      "\n",
      "# Perform the frequency dependent misfit measurements. Results will be stored\n",
      "# in 'results.json' in the output directory. This file can later be read again\n",
      "# if necessary to perform the subsequent analysis.\n",
      "results = c.run(\n",
      "    misfit_types=list(THRESHOLDS.keys()),\n",
      "    output_directory=OUTPUT_DIRECTORY,\n",
      "    # Setting this to True will create A LOT of debug plots which are very useful\n",
      "    # to tune the algorithm to the problem at hand. For production runs set this to\n",
      "    # False.\n",
      "    save_debug_plots=True)\n",
      "\n",
      "\n",
      "# This produces all kinds of plots for all components and misfits it encounters.\n",
      "results.plot_all(\n",
      "    output_directory=OUTPUT_DIRECTORY,\n",
      "    thresholds=THRESHOLDS)\n",
      "```"
     ]
    },
    {
     "cell_type": "markdown",
     "metadata": {},
     "source": [
      "Run it with \n",
      "\n",
      "```bash\n",
      "$ python run_wfdiff.py\n",
      "```\n",
      "\n",
      "As these calculations can potentially take a long time, you can also run it with MPI:\n",
      "\n",
      "```bash\n",
      "$ mpirun -n 16 python run_wfdiff.py\n",
      "```\n",
      "\n",
      "The public interfaces of `wfdiff` can correctly deal with MPI and will parallelize the code if possible. Please make sure to not run anything else in the Python file or be aware of what is actually happening."
     ]
    },
    {
     "cell_type": "code",
     "collapsed": true,
     "input": [],
     "language": "python",
     "metadata": {},
     "outputs": [],
     "prompt_number": null
    }
   ],
   "metadata": {}
  }
 ]
}