{
 "metadata": {
  "kernelspec": {
   "display_name": "Python 3",
   "language": "python",
   "name": "python3"
  },
  "language_info": {
   "codemirror_mode": {
    "name": "ipython",
    "version": 3
   },
   "file_extension": ".py",
   "mimetype": "text/x-python",
   "name": "python",
   "nbconvert_exporter": "python",
   "pygments_lexer": "ipython3",
   "version": "3.4.3"
  },
  "name": ""
 },
 "nbformat": 3,
 "nbformat_minor": 0,
 "worksheets": [
  {
   "cells": [
    {
     "cell_type": "heading",
     "level": 1,
     "metadata": {},
     "source": [
      "wfdiff"
     ]
    },
    {
     "cell_type": "raw",
     "metadata": {},
     "source": [
      "\n",
      ".. warning::\n",
      "\n",
      "    This package is work in progress and **NOT YET READY FOR PRODUCTIVE USE**."
     ]
    },
    {
     "cell_type": "markdown",
     "metadata": {},
     "source": [
      "The source code for `wfdiff` lives on Github: https://github.com/krischer/wfdiff. If you encounter any problems with it please open an issue or submit a pull request.\n",
      "\n",
      "## Installation\n",
      "\n",
      "### Installing Python and Dependencies\n",
      "\n",
      "`wfdiff` has a couple of dependencies. If you are well versed in Python, then the installation should not prove an issue, otherwise, please follow the advice here and download the [Anaconda Python distribution](http://continuum.io/downloads) for your system. In case you don't know which version to choose, choose Python 3.4. `wfdiff` nonetheless also works with Python 2.7, 3.3, and 3.4.\n",
      "\n",
      "After downloading and installing Anaconda, update it with\n",
      "\n",
      "```bash\n",
      "$ conda update conda\n",
      "```\n",
      "\n",
      "Then create a new environment. You don't have to, but using a new environment grants a clean seperation between Python installations.\n",
      "\n",
      "```bash\n",
      "$ conda create -n wfdiff python=3.4\n",
      "```\n",
      "\n",
      "This will create a new conda environment based on Python 3.4 named `wfdiff`. Activate it with\n",
      "\n",
      "```bash\n",
      "$ source activate wfdiff\n",
      "```\n",
      "\n",
      "(On windows just with `$ activate wfdiff`). Remember to activate it everytime you want to use `wfdiff`.\n",
      "\n",
      "Now install ObsPy with\n",
      "\n",
      "```bash\n",
      "$ conda install -c obspy obspy\n",
      "```\n",
      "\n",
      "and the remaining dependencies with\n",
      "\n",
      "```bash\n",
      "$ conda install mpi4py basemap pandas flake8 pytest\n",
      "```"
     ]
    },
    {
     "cell_type": "raw",
     "metadata": {},
     "source": [
      "\n",
      ".. note::\n",
      "\n",
      "    Depending on your cluster, the ``mpi4py`` shipping with Anaconda might not work with the MPI on your machine. In that case, simply uninstall ``mpi4py`` from conda.\n",
      "    \n",
      "    .. code-block:: bash\n",
      "    \n",
      "        $ conda remove mpi4py\n",
      "        \n",
      "    make sure the correct mpi is active (e.g. ``mpicc`` and consorts point to the correct executables) and install ``mpi4py`` with\n",
      "    \n",
      "    .. code-block:: bash\n",
      "    \n",
      "        $ conda install pip\n",
      "        $ pip install mpi4py\n",
      "        \n",
      "    This will cause ``mpi4py`` to be compiled with the MPI compiler on your system which should resolve any issues."
     ]
    },
    {
     "cell_type": "markdown",
     "metadata": {
      "collapsed": true
     },
     "source": [
      "### Install wfdiff\n",
      "\n",
      "To install it, best use `pip` (does not yet work):\n",
      "\n",
      "```bash\n",
      "$ pip install wfdiff\n",
      "```\n",
      "\n",
      "If you want the latest development version, or want to work on the code, you will have to install with the help of `git`.\n",
      "\n",
      "```bash\n",
      "$ git clone https://github.com/krischer/wfdiff.git\n",
      "$ cd wfdiff\n",
      "$ pip install -v -e .\n",
      "```\n",
      "\n",
      "## Tests\n",
      "\n",
      "To assure the installation is valid and everything works as expected, run the tests with\n",
      "\n",
      "```bash\n",
      "$ python -m wfdiff.tests\n",
      "```"
     ]
    },
    {
     "cell_type": "code",
     "collapsed": true,
     "input": [],
     "language": "python",
     "metadata": {},
     "outputs": [],
     "prompt_number": null
    }
   ],
   "metadata": {}
  }
 ]
}