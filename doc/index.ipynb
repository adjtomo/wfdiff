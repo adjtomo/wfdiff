{
 "metadata": {
  "name": "",
  "signature": "sha256:4feb7944e66b4c8b7ac475c477c199502dfe68fe5b324d6bc4f0e382ef97edb8"
 },
 "nbformat": 3,
 "nbformat_minor": 0,
 "worksheets": [
  {
   "cells": [
    {
     "cell_type": "markdown",
     "metadata": {},
     "source": [
      "# Pysatsi\n",
      "\n",
      "`Pysatsi` is a Python port of the `MSATSI` package for stress inversion. For the most part it mimicks the calculations of the original `MSATSI` package; minor differences and their reasoning are detailed later.\n",
      "\n",
      "To give credit where credit is due, the `MSATSI` algorithm and package are described in the following paper:\n",
      "\n",
      "> Martinez-Garzon, P., Kwiatek, G., Ickrath, M., & Bohnhoff, M. (2014). **MSATSI: A MATLAB Package for Stress Inversion Combining Solid Classic Methodology, a New Simplified User-Handling, and a Visualization Tool.** *Seismological Research Letters*, 85(4), 896\u2013904. [doi:10.1785/0220130189](http://dx.doi.org/10.1785/0220130189).\n",
      "\n",
      "The original `SATSI` library package is detailed in:\n",
      "\n",
      "> Hardebeck, J. L., and Michael, A. J. (2006). **Damped regional-scale stress inversions: Methodology and examples for southern California and the Coalinga aftershock sequence.** *Journal of Geophysical Research: Solid Earth* 111, no. B11, B11310. [doi:10.1029/2005JB004144](http://dx.doi.org/10.1029/2005JB004144).\n",
      "\n",
      "Details for the calculation of the horizontal stresses can be found in:\n",
      "\n",
      "> Lund B. and Townend, J., (2007). **Calculating horizontal stress orientations with full or partial knowledge of the tectonic stress tensor.** *Geophysical Journal International*, 170, 1328-1335, [doi:10.1111/j.1365-246X.2007.03468.x](http://dx.doi.org/10.1111/j.1365-246X.2007.03468.x).\n",
      "\n",
      "\n",
      "The source code for `Pysatsi` lives on Github: https://github.com/krischer/pysatsi. If you encounter any problems with it please open an issue or submit a pull request.\n",
      "\n",
      "## Installation\n",
      "\n",
      "`Pyflex` utilizes [ObsPy](http://obspy.org) (and some of its dependencies) for the processing and data handling. As a first step, please follow the [installation instructions of ObsPy](https://github.com/obspy/obspy/wiki#installation) for your given platform (we recommend the installation with [Anaconda](https://github.com/obspy/obspy/wiki/Installation-via-Anaconda) as it will most likely result in the least amount of problems). `Pyflex` should work with Python versions 2.6, 2.7, 3.3, and 3.4 (mainly depends on the used ObsPy version). To install it, best use `pip`:\n",
      "\n",
      "```bash\n",
      "$ pip install pysatsi\n",
      "```\n",
      "\n",
      "If you want the latest development version, or want to work on the code, you will have to install with the help of `git`.\n",
      "\n",
      "```bash\n",
      "$ git clone https://github.com/krischer/pysatsi.git\n",
      "$ cd pyflex\n",
      "$ pip install -v -e .\n",
      "```\n",
      "\n",
      "## Tests\n",
      "\n",
      "To assure the installation is valid and everything works as expected, run the tests with\n",
      "\n",
      "```bash\n",
      "$ python -m pysatsi.tests\n",
      "```\n",
      "\n",
      "## Usage\n",
      "\n",
      "The first step is to import ObsPy and Pysatsi."
     ]
    },
    {
     "cell_type": "code",
     "collapsed": false,
     "input": [
      "%pylab inline\n",
      "import obspy\n",
      "import pysatsi"
     ],
     "language": "python",
     "metadata": {},
     "outputs": [
      {
       "output_type": "stream",
       "stream": "stdout",
       "text": [
        "Populating the interactive namespace from numpy and matplotlib\n"
       ]
      },
      {
       "ename": "ImportError",
       "evalue": "No module named 'pysatsi'",
       "output_type": "pyerr",
       "traceback": [
        "\u001b[0;31m---------------------------------------------------------------------------\u001b[0m\n\u001b[0;31mImportError\u001b[0m                               Traceback (most recent call last)",
        "\u001b[0;32m<ipython-input-1-9e4c556c1344>\u001b[0m in \u001b[0;36m<module>\u001b[0;34m()\u001b[0m\n\u001b[1;32m      1\u001b[0m \u001b[0mget_ipython\u001b[0m\u001b[0;34m(\u001b[0m\u001b[0;34m)\u001b[0m\u001b[0;34m.\u001b[0m\u001b[0mmagic\u001b[0m\u001b[0;34m(\u001b[0m\u001b[0;34m'pylab inline'\u001b[0m\u001b[0;34m)\u001b[0m\u001b[0;34m\u001b[0m\u001b[0m\n\u001b[1;32m      2\u001b[0m \u001b[0;32mimport\u001b[0m \u001b[0mobspy\u001b[0m\u001b[0;34m\u001b[0m\u001b[0m\n\u001b[0;32m----> 3\u001b[0;31m \u001b[0;32mimport\u001b[0m \u001b[0mpysatsi\u001b[0m\u001b[0;34m\u001b[0m\u001b[0m\n\u001b[0m",
        "\u001b[0;31mImportError\u001b[0m: No module named 'pysatsi'"
       ]
      }
     ],
     "prompt_number": 1
    }
   ],
   "metadata": {}
  }
 ]
}